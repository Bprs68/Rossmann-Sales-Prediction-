{
  "cells": [
    {
      "cell_type": "markdown",
      "metadata": {
        "id": "view-in-github",
        "colab_type": "text"
      },
      "source": [
        "<a href=\"https://colab.research.google.com/github/Bprs68/Rossmann-Sales-Prediction-/blob/main/Notebook_2_Baseline_Model_Building_.ipynb\" target=\"_parent\"><img src=\"https://colab.research.google.com/assets/colab-badge.svg\" alt=\"Open In Colab\"/></a>"
      ]
    },
    {
      "cell_type": "code",
      "execution_count": null,
      "metadata": {
        "id": "5b1e50e0"
      },
      "outputs": [],
      "source": [
        "#importing necessary libraries\n",
        "import numpy as np\n",
        "import pandas as pd\n",
        "import matplotlib.pyplot as plt\n",
        "import seaborn as sns\n",
        "%matplotlib inline\n",
        "from datetime import datetime\n",
        "\n",
        "from sklearn.preprocessing import MinMaxScaler\n",
        "from sklearn.model_selection import train_test_split\n",
        "from sklearn.linear_model import LinearRegression\n",
        "from sklearn.metrics import r2_score\n",
        "from sklearn.metrics import mean_squared_error\n",
        "from sklearn.preprocessing import OneHotEncoder\n",
        "import math\n",
        "\n",
        "import warnings    \n",
        "warnings.filterwarnings('ignore')"
      ],
      "id": "5b1e50e0"
    },
    {
      "cell_type": "code",
      "execution_count": null,
      "metadata": {
        "colab": {
          "base_uri": "https://localhost:8080/"
        },
        "id": "IniVlW-v7VCF",
        "outputId": "e6faa242-8e05-4520-8d4c-d4488c374d8e"
      },
      "outputs": [
        {
          "output_type": "stream",
          "name": "stdout",
          "text": [
            "Drive already mounted at /content/drive; to attempt to forcibly remount, call drive.mount(\"/content/drive\", force_remount=True).\n"
          ]
        }
      ],
      "source": [
        "from google.colab import drive\n",
        "drive.mount('/content/drive')"
      ],
      "id": "IniVlW-v7VCF"
    },
    {
      "cell_type": "code",
      "execution_count": null,
      "metadata": {
        "id": "fc0d38b5"
      },
      "outputs": [],
      "source": [
        "file_path = '/content/drive/MyDrive/AlmaBetter/Capstone Projects/Capstone Project - Supervised Machine Learning- Regression/cleaned_data/'"
      ],
      "id": "fc0d38b5"
    },
    {
      "cell_type": "code",
      "execution_count": null,
      "metadata": {
        "id": "cb8183f9"
      },
      "outputs": [],
      "source": [
        "train_df = pd.read_csv(file_path+'train.csv')"
      ],
      "id": "cb8183f9"
    },
    {
      "cell_type": "code",
      "execution_count": null,
      "metadata": {
        "id": "10c9d956"
      },
      "outputs": [],
      "source": [
        "test_df = pd.read_csv(file_path+'test.csv')"
      ],
      "id": "10c9d956"
    },
    {
      "cell_type": "code",
      "execution_count": null,
      "metadata": {
        "id": "C5bFlCjKj_EM"
      },
      "outputs": [],
      "source": [
        "#setting date and store as index\n",
        "train_df.set_index(['Date','Store'], inplace=True)\n",
        "train_df.sort_values(by=['Date','Store'], inplace=True)\n",
        "\n",
        "test_df.set_index(['Date','Store'], inplace=True)\n",
        "test_df.sort_values(by=['Date','Store'], inplace=True)"
      ],
      "id": "C5bFlCjKj_EM"
    },
    {
      "cell_type": "code",
      "execution_count": null,
      "metadata": {
        "colab": {
          "base_uri": "https://localhost:8080/",
          "height": 193
        },
        "id": "iBXm-PTkokCm",
        "outputId": "00c75dec-3d9d-4b20-8abf-af29e8f2232d"
      },
      "outputs": [
        {
          "data": {
            "text/html": [
              "\n",
              "  <div id=\"df-63160d40-6a04-477b-9fbf-d521c5f6f8aa\">\n",
              "    <div class=\"colab-df-container\">\n",
              "      <div>\n",
              "<style scoped>\n",
              "    .dataframe tbody tr th:only-of-type {\n",
              "        vertical-align: middle;\n",
              "    }\n",
              "\n",
              "    .dataframe tbody tr th {\n",
              "        vertical-align: top;\n",
              "    }\n",
              "\n",
              "    .dataframe thead th {\n",
              "        text-align: right;\n",
              "    }\n",
              "</style>\n",
              "<table border=\"1\" class=\"dataframe\">\n",
              "  <thead>\n",
              "    <tr style=\"text-align: right;\">\n",
              "      <th></th>\n",
              "      <th></th>\n",
              "      <th>DayOfWeek</th>\n",
              "      <th>Sales</th>\n",
              "      <th>Customers</th>\n",
              "      <th>Promo</th>\n",
              "      <th>StateHoliday</th>\n",
              "      <th>SchoolHoliday</th>\n",
              "      <th>StoreType</th>\n",
              "      <th>Assortment</th>\n",
              "      <th>CompetitionDistance</th>\n",
              "      <th>Promo2</th>\n",
              "      <th>Year</th>\n",
              "      <th>Month</th>\n",
              "      <th>WeekOfYear</th>\n",
              "      <th>DayOfYear</th>\n",
              "      <th>CompetitionOpen</th>\n",
              "      <th>Promo2Open</th>\n",
              "      <th>Promo2running</th>\n",
              "    </tr>\n",
              "    <tr>\n",
              "      <th>Date</th>\n",
              "      <th>Store</th>\n",
              "      <th></th>\n",
              "      <th></th>\n",
              "      <th></th>\n",
              "      <th></th>\n",
              "      <th></th>\n",
              "      <th></th>\n",
              "      <th></th>\n",
              "      <th></th>\n",
              "      <th></th>\n",
              "      <th></th>\n",
              "      <th></th>\n",
              "      <th></th>\n",
              "      <th></th>\n",
              "      <th></th>\n",
              "      <th></th>\n",
              "      <th></th>\n",
              "      <th></th>\n",
              "    </tr>\n",
              "  </thead>\n",
              "  <tbody>\n",
              "    <tr>\n",
              "      <th>2013-01-01</th>\n",
              "      <th>85</th>\n",
              "      <td>2</td>\n",
              "      <td>8.34759</td>\n",
              "      <td>619</td>\n",
              "      <td>0</td>\n",
              "      <td>1</td>\n",
              "      <td>1</td>\n",
              "      <td>b</td>\n",
              "      <td>a</td>\n",
              "      <td>1870.0</td>\n",
              "      <td>0</td>\n",
              "      <td>2013</td>\n",
              "      <td>1</td>\n",
              "      <td>1</td>\n",
              "      <td>1</td>\n",
              "      <td>15.0</td>\n",
              "      <td>0.0</td>\n",
              "      <td>0</td>\n",
              "    </tr>\n",
              "  </tbody>\n",
              "</table>\n",
              "</div>\n",
              "      <button class=\"colab-df-convert\" onclick=\"convertToInteractive('df-63160d40-6a04-477b-9fbf-d521c5f6f8aa')\"\n",
              "              title=\"Convert this dataframe to an interactive table.\"\n",
              "              style=\"display:none;\">\n",
              "        \n",
              "  <svg xmlns=\"http://www.w3.org/2000/svg\" height=\"24px\"viewBox=\"0 0 24 24\"\n",
              "       width=\"24px\">\n",
              "    <path d=\"M0 0h24v24H0V0z\" fill=\"none\"/>\n",
              "    <path d=\"M18.56 5.44l.94 2.06.94-2.06 2.06-.94-2.06-.94-.94-2.06-.94 2.06-2.06.94zm-11 1L8.5 8.5l.94-2.06 2.06-.94-2.06-.94L8.5 2.5l-.94 2.06-2.06.94zm10 10l.94 2.06.94-2.06 2.06-.94-2.06-.94-.94-2.06-.94 2.06-2.06.94z\"/><path d=\"M17.41 7.96l-1.37-1.37c-.4-.4-.92-.59-1.43-.59-.52 0-1.04.2-1.43.59L10.3 9.45l-7.72 7.72c-.78.78-.78 2.05 0 2.83L4 21.41c.39.39.9.59 1.41.59.51 0 1.02-.2 1.41-.59l7.78-7.78 2.81-2.81c.8-.78.8-2.07 0-2.86zM5.41 20L4 18.59l7.72-7.72 1.47 1.35L5.41 20z\"/>\n",
              "  </svg>\n",
              "      </button>\n",
              "      \n",
              "  <style>\n",
              "    .colab-df-container {\n",
              "      display:flex;\n",
              "      flex-wrap:wrap;\n",
              "      gap: 12px;\n",
              "    }\n",
              "\n",
              "    .colab-df-convert {\n",
              "      background-color: #E8F0FE;\n",
              "      border: none;\n",
              "      border-radius: 50%;\n",
              "      cursor: pointer;\n",
              "      display: none;\n",
              "      fill: #1967D2;\n",
              "      height: 32px;\n",
              "      padding: 0 0 0 0;\n",
              "      width: 32px;\n",
              "    }\n",
              "\n",
              "    .colab-df-convert:hover {\n",
              "      background-color: #E2EBFA;\n",
              "      box-shadow: 0px 1px 2px rgba(60, 64, 67, 0.3), 0px 1px 3px 1px rgba(60, 64, 67, 0.15);\n",
              "      fill: #174EA6;\n",
              "    }\n",
              "\n",
              "    [theme=dark] .colab-df-convert {\n",
              "      background-color: #3B4455;\n",
              "      fill: #D2E3FC;\n",
              "    }\n",
              "\n",
              "    [theme=dark] .colab-df-convert:hover {\n",
              "      background-color: #434B5C;\n",
              "      box-shadow: 0px 1px 3px 1px rgba(0, 0, 0, 0.15);\n",
              "      filter: drop-shadow(0px 1px 2px rgba(0, 0, 0, 0.3));\n",
              "      fill: #FFFFFF;\n",
              "    }\n",
              "  </style>\n",
              "\n",
              "      <script>\n",
              "        const buttonEl =\n",
              "          document.querySelector('#df-63160d40-6a04-477b-9fbf-d521c5f6f8aa button.colab-df-convert');\n",
              "        buttonEl.style.display =\n",
              "          google.colab.kernel.accessAllowed ? 'block' : 'none';\n",
              "\n",
              "        async function convertToInteractive(key) {\n",
              "          const element = document.querySelector('#df-63160d40-6a04-477b-9fbf-d521c5f6f8aa');\n",
              "          const dataTable =\n",
              "            await google.colab.kernel.invokeFunction('convertToInteractive',\n",
              "                                                     [key], {});\n",
              "          if (!dataTable) return;\n",
              "\n",
              "          const docLinkHtml = 'Like what you see? Visit the ' +\n",
              "            '<a target=\"_blank\" href=https://colab.research.google.com/notebooks/data_table.ipynb>data table notebook</a>'\n",
              "            + ' to learn more about interactive tables.';\n",
              "          element.innerHTML = '';\n",
              "          dataTable['output_type'] = 'display_data';\n",
              "          await google.colab.output.renderOutput(dataTable, element);\n",
              "          const docLink = document.createElement('div');\n",
              "          docLink.innerHTML = docLinkHtml;\n",
              "          element.appendChild(docLink);\n",
              "        }\n",
              "      </script>\n",
              "    </div>\n",
              "  </div>\n",
              "  "
            ],
            "text/plain": [
              "                  DayOfWeek    Sales  Customers  Promo  StateHoliday  \\\n",
              "Date       Store                                                       \n",
              "2013-01-01 85             2  8.34759        619      0             1   \n",
              "\n",
              "                  SchoolHoliday StoreType Assortment  CompetitionDistance  \\\n",
              "Date       Store                                                            \n",
              "2013-01-01 85                 1         b          a               1870.0   \n",
              "\n",
              "                  Promo2  Year  Month  WeekOfYear  DayOfYear  CompetitionOpen  \\\n",
              "Date       Store                                                                \n",
              "2013-01-01 85          0  2013      1           1          1             15.0   \n",
              "\n",
              "                  Promo2Open  Promo2running  \n",
              "Date       Store                             \n",
              "2013-01-01 85            0.0              0  "
            ]
          },
          "execution_count": 8,
          "metadata": {},
          "output_type": "execute_result"
        }
      ],
      "source": [
        "train_df.head(1)"
      ],
      "id": "iBXm-PTkokCm"
    },
    {
      "cell_type": "code",
      "execution_count": null,
      "metadata": {
        "colab": {
          "base_uri": "https://localhost:8080/"
        },
        "id": "lUV7N8MCt133",
        "outputId": "0bb5b13d-ad6e-4a48-a126-87e35ff4187e"
      },
      "outputs": [
        {
          "data": {
            "text/plain": [
              "Index(['DayOfWeek', 'Sales', 'Customers', 'Promo', 'StateHoliday',\n",
              "       'SchoolHoliday', 'StoreType', 'Assortment', 'CompetitionDistance',\n",
              "       'Promo2', 'Year', 'Month', 'WeekOfYear', 'DayOfYear', 'CompetitionOpen',\n",
              "       'Promo2Open', 'Promo2running'],\n",
              "      dtype='object')"
            ]
          },
          "execution_count": 9,
          "metadata": {},
          "output_type": "execute_result"
        }
      ],
      "source": [
        "train_df.columns"
      ],
      "id": "lUV7N8MCt133"
    },
    {
      "cell_type": "code",
      "execution_count": null,
      "metadata": {
        "colab": {
          "base_uri": "https://localhost:8080/",
          "height": 193
        },
        "id": "iCQckuB2r2_f",
        "outputId": "f1ea84b7-3a24-431c-da6e-a6d36efb35c6"
      },
      "outputs": [
        {
          "data": {
            "text/html": [
              "\n",
              "  <div id=\"df-31fbead9-97f7-43d5-b250-a436c3ee7982\">\n",
              "    <div class=\"colab-df-container\">\n",
              "      <div>\n",
              "<style scoped>\n",
              "    .dataframe tbody tr th:only-of-type {\n",
              "        vertical-align: middle;\n",
              "    }\n",
              "\n",
              "    .dataframe tbody tr th {\n",
              "        vertical-align: top;\n",
              "    }\n",
              "\n",
              "    .dataframe thead th {\n",
              "        text-align: right;\n",
              "    }\n",
              "</style>\n",
              "<table border=\"1\" class=\"dataframe\">\n",
              "  <thead>\n",
              "    <tr style=\"text-align: right;\">\n",
              "      <th></th>\n",
              "      <th></th>\n",
              "      <th>DayOfWeek</th>\n",
              "      <th>Sales</th>\n",
              "      <th>Customers</th>\n",
              "      <th>Promo</th>\n",
              "      <th>StateHoliday</th>\n",
              "      <th>SchoolHoliday</th>\n",
              "      <th>StoreType</th>\n",
              "      <th>Assortment</th>\n",
              "      <th>CompetitionDistance</th>\n",
              "      <th>Promo2</th>\n",
              "      <th>Year</th>\n",
              "      <th>Month</th>\n",
              "      <th>WeekOfYear</th>\n",
              "      <th>DayOfYear</th>\n",
              "      <th>CompetitionOpen</th>\n",
              "      <th>Promo2Open</th>\n",
              "      <th>Promo2running</th>\n",
              "    </tr>\n",
              "    <tr>\n",
              "      <th>Date</th>\n",
              "      <th>Store</th>\n",
              "      <th></th>\n",
              "      <th></th>\n",
              "      <th></th>\n",
              "      <th></th>\n",
              "      <th></th>\n",
              "      <th></th>\n",
              "      <th></th>\n",
              "      <th></th>\n",
              "      <th></th>\n",
              "      <th></th>\n",
              "      <th></th>\n",
              "      <th></th>\n",
              "      <th></th>\n",
              "      <th></th>\n",
              "      <th></th>\n",
              "      <th></th>\n",
              "      <th></th>\n",
              "    </tr>\n",
              "  </thead>\n",
              "  <tbody>\n",
              "    <tr>\n",
              "      <th>2015-06-15</th>\n",
              "      <th>1</th>\n",
              "      <td>1</td>\n",
              "      <td>8.615771</td>\n",
              "      <td>586</td>\n",
              "      <td>1</td>\n",
              "      <td>0</td>\n",
              "      <td>0</td>\n",
              "      <td>c</td>\n",
              "      <td>a</td>\n",
              "      <td>1270.0</td>\n",
              "      <td>0</td>\n",
              "      <td>2015</td>\n",
              "      <td>6</td>\n",
              "      <td>25</td>\n",
              "      <td>166</td>\n",
              "      <td>81.0</td>\n",
              "      <td>0.0</td>\n",
              "      <td>0</td>\n",
              "    </tr>\n",
              "  </tbody>\n",
              "</table>\n",
              "</div>\n",
              "      <button class=\"colab-df-convert\" onclick=\"convertToInteractive('df-31fbead9-97f7-43d5-b250-a436c3ee7982')\"\n",
              "              title=\"Convert this dataframe to an interactive table.\"\n",
              "              style=\"display:none;\">\n",
              "        \n",
              "  <svg xmlns=\"http://www.w3.org/2000/svg\" height=\"24px\"viewBox=\"0 0 24 24\"\n",
              "       width=\"24px\">\n",
              "    <path d=\"M0 0h24v24H0V0z\" fill=\"none\"/>\n",
              "    <path d=\"M18.56 5.44l.94 2.06.94-2.06 2.06-.94-2.06-.94-.94-2.06-.94 2.06-2.06.94zm-11 1L8.5 8.5l.94-2.06 2.06-.94-2.06-.94L8.5 2.5l-.94 2.06-2.06.94zm10 10l.94 2.06.94-2.06 2.06-.94-2.06-.94-.94-2.06-.94 2.06-2.06.94z\"/><path d=\"M17.41 7.96l-1.37-1.37c-.4-.4-.92-.59-1.43-.59-.52 0-1.04.2-1.43.59L10.3 9.45l-7.72 7.72c-.78.78-.78 2.05 0 2.83L4 21.41c.39.39.9.59 1.41.59.51 0 1.02-.2 1.41-.59l7.78-7.78 2.81-2.81c.8-.78.8-2.07 0-2.86zM5.41 20L4 18.59l7.72-7.72 1.47 1.35L5.41 20z\"/>\n",
              "  </svg>\n",
              "      </button>\n",
              "      \n",
              "  <style>\n",
              "    .colab-df-container {\n",
              "      display:flex;\n",
              "      flex-wrap:wrap;\n",
              "      gap: 12px;\n",
              "    }\n",
              "\n",
              "    .colab-df-convert {\n",
              "      background-color: #E8F0FE;\n",
              "      border: none;\n",
              "      border-radius: 50%;\n",
              "      cursor: pointer;\n",
              "      display: none;\n",
              "      fill: #1967D2;\n",
              "      height: 32px;\n",
              "      padding: 0 0 0 0;\n",
              "      width: 32px;\n",
              "    }\n",
              "\n",
              "    .colab-df-convert:hover {\n",
              "      background-color: #E2EBFA;\n",
              "      box-shadow: 0px 1px 2px rgba(60, 64, 67, 0.3), 0px 1px 3px 1px rgba(60, 64, 67, 0.15);\n",
              "      fill: #174EA6;\n",
              "    }\n",
              "\n",
              "    [theme=dark] .colab-df-convert {\n",
              "      background-color: #3B4455;\n",
              "      fill: #D2E3FC;\n",
              "    }\n",
              "\n",
              "    [theme=dark] .colab-df-convert:hover {\n",
              "      background-color: #434B5C;\n",
              "      box-shadow: 0px 1px 3px 1px rgba(0, 0, 0, 0.15);\n",
              "      filter: drop-shadow(0px 1px 2px rgba(0, 0, 0, 0.3));\n",
              "      fill: #FFFFFF;\n",
              "    }\n",
              "  </style>\n",
              "\n",
              "      <script>\n",
              "        const buttonEl =\n",
              "          document.querySelector('#df-31fbead9-97f7-43d5-b250-a436c3ee7982 button.colab-df-convert');\n",
              "        buttonEl.style.display =\n",
              "          google.colab.kernel.accessAllowed ? 'block' : 'none';\n",
              "\n",
              "        async function convertToInteractive(key) {\n",
              "          const element = document.querySelector('#df-31fbead9-97f7-43d5-b250-a436c3ee7982');\n",
              "          const dataTable =\n",
              "            await google.colab.kernel.invokeFunction('convertToInteractive',\n",
              "                                                     [key], {});\n",
              "          if (!dataTable) return;\n",
              "\n",
              "          const docLinkHtml = 'Like what you see? Visit the ' +\n",
              "            '<a target=\"_blank\" href=https://colab.research.google.com/notebooks/data_table.ipynb>data table notebook</a>'\n",
              "            + ' to learn more about interactive tables.';\n",
              "          element.innerHTML = '';\n",
              "          dataTable['output_type'] = 'display_data';\n",
              "          await google.colab.output.renderOutput(dataTable, element);\n",
              "          const docLink = document.createElement('div');\n",
              "          docLink.innerHTML = docLinkHtml;\n",
              "          element.appendChild(docLink);\n",
              "        }\n",
              "      </script>\n",
              "    </div>\n",
              "  </div>\n",
              "  "
            ],
            "text/plain": [
              "                  DayOfWeek     Sales  Customers  Promo  StateHoliday  \\\n",
              "Date       Store                                                        \n",
              "2015-06-15 1              1  8.615771        586      1             0   \n",
              "\n",
              "                  SchoolHoliday StoreType Assortment  CompetitionDistance  \\\n",
              "Date       Store                                                            \n",
              "2015-06-15 1                  0         c          a               1270.0   \n",
              "\n",
              "                  Promo2  Year  Month  WeekOfYear  DayOfYear  CompetitionOpen  \\\n",
              "Date       Store                                                                \n",
              "2015-06-15 1           0  2015      6          25        166             81.0   \n",
              "\n",
              "                  Promo2Open  Promo2running  \n",
              "Date       Store                             \n",
              "2015-06-15 1             0.0              0  "
            ]
          },
          "execution_count": 10,
          "metadata": {},
          "output_type": "execute_result"
        }
      ],
      "source": [
        "test_df.head(1)"
      ],
      "id": "iCQckuB2r2_f"
    },
    {
      "cell_type": "markdown",
      "metadata": {
        "id": "7189dfac"
      },
      "source": [
        "## Test-Train-Split"
      ],
      "id": "7189dfac"
    },
    {
      "cell_type": "code",
      "execution_count": null,
      "metadata": {
        "id": "4aa8691b"
      },
      "outputs": [],
      "source": [
        "# dividing train df into train_x and train_y \n",
        "X_train = train_df.drop('Sales', axis=1)\n",
        "y_train = train_df[['Sales']]\n",
        "\n",
        "#dividing test df into test_x and test_y\n",
        "X_test = test_df.drop(\"Sales\", axis=1)\n",
        "y_test = test_df[['Sales']]"
      ],
      "id": "4aa8691b"
    },
    {
      "cell_type": "markdown",
      "metadata": {
        "id": "f63335e3"
      },
      "source": [
        "One Hot Encoding of categorical columns to conver them into numerical columns"
      ],
      "id": "f63335e3"
    },
    {
      "cell_type": "code",
      "execution_count": null,
      "metadata": {
        "id": "3097d1a0"
      },
      "outputs": [],
      "source": [
        "# making a list of categorical columns\n",
        "Categorical_columns = ['DayOfWeek','StoreType','Assortment']"
      ],
      "id": "3097d1a0"
    },
    {
      "cell_type": "code",
      "execution_count": null,
      "metadata": {
        "id": "86c59229"
      },
      "outputs": [],
      "source": [
        "# assigning one hot encoder\n",
        "enc = OneHotEncoder(sparse=False)"
      ],
      "id": "86c59229"
    },
    {
      "cell_type": "code",
      "execution_count": null,
      "metadata": {
        "colab": {
          "base_uri": "https://localhost:8080/"
        },
        "id": "e48c3286",
        "outputId": "6f776ba5-61c6-48e7-ccc5-afb120b74ef6"
      },
      "outputs": [
        {
          "data": {
            "text/plain": [
              "OneHotEncoder(sparse=False)"
            ]
          },
          "execution_count": 14,
          "metadata": {},
          "output_type": "execute_result"
        }
      ],
      "source": [
        "enc.fit(X_train[Categorical_columns])"
      ],
      "id": "e48c3286"
    },
    {
      "cell_type": "code",
      "execution_count": null,
      "metadata": {
        "id": "a0c04ad8"
      },
      "outputs": [],
      "source": [
        "# getting a new list of encoded columns from Categorical_columns in train data\n",
        "encoded_cols = enc.get_feature_names(Categorical_columns).tolist()"
      ],
      "id": "a0c04ad8"
    },
    {
      "cell_type": "code",
      "execution_count": null,
      "metadata": {
        "colab": {
          "base_uri": "https://localhost:8080/"
        },
        "id": "1b3ff2a5",
        "outputId": "4ea097e9-dc2f-485d-f38f-8fed7b5d1c4f"
      },
      "outputs": [
        {
          "data": {
            "text/plain": [
              "['DayOfWeek_1',\n",
              " 'DayOfWeek_2',\n",
              " 'DayOfWeek_3',\n",
              " 'DayOfWeek_4',\n",
              " 'DayOfWeek_5',\n",
              " 'DayOfWeek_6',\n",
              " 'DayOfWeek_7',\n",
              " 'StoreType_a',\n",
              " 'StoreType_b',\n",
              " 'StoreType_c',\n",
              " 'StoreType_d',\n",
              " 'Assortment_a',\n",
              " 'Assortment_b',\n",
              " 'Assortment_c']"
            ]
          },
          "execution_count": 16,
          "metadata": {},
          "output_type": "execute_result"
        }
      ],
      "source": [
        "encoded_cols"
      ],
      "id": "1b3ff2a5"
    },
    {
      "cell_type": "code",
      "execution_count": null,
      "metadata": {
        "id": "09e434be"
      },
      "outputs": [],
      "source": [
        "#performing transformation on training data and creating new features for encoded columns\n",
        "X_train[encoded_cols] = enc.transform(X_train[Categorical_columns])"
      ],
      "id": "09e434be"
    },
    {
      "cell_type": "code",
      "execution_count": null,
      "metadata": {
        "id": "89aef905"
      },
      "outputs": [],
      "source": [
        "#dropping old categorical columns from training data\n",
        "X_train.drop(Categorical_columns, axis=1, inplace=True)"
      ],
      "id": "89aef905"
    },
    {
      "cell_type": "code",
      "execution_count": null,
      "metadata": {
        "id": "20706c5a"
      },
      "outputs": [],
      "source": [
        "#performing transformation on testing data and creating new features for encoded columns\n",
        "X_test[encoded_cols] = enc.transform(X_test[Categorical_columns])"
      ],
      "id": "20706c5a"
    },
    {
      "cell_type": "code",
      "execution_count": null,
      "metadata": {
        "id": "7c148f05"
      },
      "outputs": [],
      "source": [
        "#dropping old categorical columns from testing data\n",
        "X_test.drop(Categorical_columns, axis=1, inplace=True)"
      ],
      "id": "7c148f05"
    },
    {
      "cell_type": "code",
      "execution_count": null,
      "metadata": {
        "colab": {
          "base_uri": "https://localhost:8080/"
        },
        "id": "2BWcdlcdsCXw",
        "outputId": "da8d19ba-da9b-4d22-b1d6-2c384ac44aca"
      },
      "outputs": [
        {
          "data": {
            "text/plain": [
              "Index(['Customers', 'Promo', 'StateHoliday', 'SchoolHoliday',\n",
              "       'CompetitionDistance', 'Promo2', 'Year', 'Month', 'WeekOfYear',\n",
              "       'DayOfYear', 'CompetitionOpen', 'Promo2Open', 'Promo2running',\n",
              "       'DayOfWeek_1', 'DayOfWeek_2', 'DayOfWeek_3', 'DayOfWeek_4',\n",
              "       'DayOfWeek_5', 'DayOfWeek_6', 'DayOfWeek_7', 'StoreType_a',\n",
              "       'StoreType_b', 'StoreType_c', 'StoreType_d', 'Assortment_a',\n",
              "       'Assortment_b', 'Assortment_c'],\n",
              "      dtype='object')"
            ]
          },
          "execution_count": 21,
          "metadata": {},
          "output_type": "execute_result"
        }
      ],
      "source": [
        "X_train.columns"
      ],
      "id": "2BWcdlcdsCXw"
    },
    {
      "cell_type": "markdown",
      "metadata": {
        "id": "MPkfEB13shy3"
      },
      "source": [
        "### **Time for transformations in our data**"
      ],
      "id": "MPkfEB13shy3"
    },
    {
      "cell_type": "code",
      "execution_count": null,
      "metadata": {
        "id": "bnqLqXj8smf3"
      },
      "outputs": [],
      "source": [
        "from sklearn.preprocessing import StandardScaler\n",
        "scaler = StandardScaler()\n",
        "\n",
        "X_train[list(X_train.columns)] = scaler.fit_transform(X_train[list(X_train.columns)])\n",
        "X_test[list(X_test.columns)] = scaler.fit_transform(X_test[list(X_test.columns)])\n",
        "\n",
        "scaler = StandardScaler()\n",
        "y_train[list(y_train.columns)] = scaler.fit_transform(y_train[list(y_train.columns)])\n",
        "y_test[list(y_test.columns)] = scaler.transform(y_test[list(y_train.columns)])"
      ],
      "id": "bnqLqXj8smf3"
    },
    {
      "cell_type": "markdown",
      "metadata": {
        "id": "C7JQSEqVtOqU"
      },
      "source": [
        "## **Model Selection**"
      ],
      "id": "C7JQSEqVtOqU"
    },
    {
      "cell_type": "markdown",
      "metadata": {
        "id": "fwk66QPFtXZu"
      },
      "source": [
        "Going through the assumptions of linear models, we can confidently conclude that we can go for them. Given Our Data has a lot of genuine multicollinearity and also some columns have way too many outliers than others. "
      ],
      "id": "fwk66QPFtXZu"
    },
    {
      "cell_type": "markdown",
      "metadata": {
        "id": "u0_PZ6dsvNL-"
      },
      "source": [
        "Linear models like Linear regression and Logistic ones can't be used for our purpose, so we will move ahead with decision trees and randomforests, but, before that just to check."
      ],
      "id": "u0_PZ6dsvNL-"
    },
    {
      "cell_type": "code",
      "execution_count": null,
      "metadata": {
        "id": "PTKZnLbovMo-"
      },
      "outputs": [],
      "source": [
        "lrreg = LinearRegression()"
      ],
      "id": "PTKZnLbovMo-"
    },
    {
      "cell_type": "code",
      "execution_count": null,
      "metadata": {
        "colab": {
          "base_uri": "https://localhost:8080/"
        },
        "id": "VDnO5eDSvHib",
        "outputId": "25acdf28-01df-4747-8588-9477b6d91969"
      },
      "outputs": [
        {
          "data": {
            "text/plain": [
              "LinearRegression()"
            ]
          },
          "execution_count": 24,
          "metadata": {},
          "output_type": "execute_result"
        }
      ],
      "source": [
        "lrreg.fit(X_train,y_train)"
      ],
      "id": "VDnO5eDSvHib"
    },
    {
      "cell_type": "code",
      "execution_count": null,
      "metadata": {
        "id": "NOYWKS4avnG-"
      },
      "outputs": [],
      "source": [
        "y_train_pred = lrreg.predict(X_train)"
      ],
      "id": "NOYWKS4avnG-"
    },
    {
      "cell_type": "code",
      "execution_count": null,
      "metadata": {
        "id": "PFBW2Q7qvuhv"
      },
      "outputs": [],
      "source": [
        "y_test_pred = lrreg.predict(X_test)"
      ],
      "id": "PFBW2Q7qvuhv"
    },
    {
      "cell_type": "code",
      "execution_count": null,
      "metadata": {
        "id": "lb7fRtIhw2B5"
      },
      "outputs": [],
      "source": [
        "# importing evaluation matrices\n",
        "from sklearn.metrics import mean_absolute_error\n",
        "from sklearn.metrics import mean_squared_error\n",
        "from sklearn.metrics import r2_score\n",
        "\n"
      ],
      "id": "lb7fRtIhw2B5"
    },
    {
      "cell_type": "code",
      "execution_count": null,
      "metadata": {
        "colab": {
          "base_uri": "https://localhost:8080/"
        },
        "id": "Hx4n6YQcv3Lx",
        "outputId": "c3778889-085b-4c42-d94b-c817f8ce2752"
      },
      "outputs": [
        {
          "name": "stdout",
          "output_type": "stream",
          "text": [
            "r2_score for training data is 0.6675621318983829\n",
            "r2_score for training data is -3.831468475823385e-11\n"
          ]
        }
      ],
      "source": [
        "print(f'r2_score for training data is {r2_score(y_train_pred,y_train)}')\n",
        "print(f'r2_score for training data is {r2_score(y_test_pred,y_test)}')"
      ],
      "id": "Hx4n6YQcv3Lx"
    },
    {
      "cell_type": "markdown",
      "metadata": {
        "id": "4BO-3JkZxJxn"
      },
      "source": [
        "As expected high bias and high variance."
      ],
      "id": "4BO-3JkZxJxn"
    },
    {
      "cell_type": "markdown",
      "metadata": {
        "id": "4dK2UJ0IxNnm"
      },
      "source": [
        "### **Model 1(Baseline): DecisionTree**"
      ],
      "id": "4dK2UJ0IxNnm"
    },
    {
      "cell_type": "code",
      "execution_count": null,
      "metadata": {
        "id": "ZMFLLD4Xw7DF"
      },
      "outputs": [],
      "source": [
        "# import the regressor\n",
        "from sklearn.tree import DecisionTreeRegressor "
      ],
      "id": "ZMFLLD4Xw7DF"
    },
    {
      "cell_type": "code",
      "execution_count": null,
      "metadata": {
        "id": "oxPfc872x-uL"
      },
      "outputs": [],
      "source": [
        "# assigning a variable\n",
        "dtree = DecisionTreeRegressor(random_state=68)"
      ],
      "id": "oxPfc872x-uL"
    },
    {
      "cell_type": "code",
      "execution_count": null,
      "metadata": {
        "colab": {
          "base_uri": "https://localhost:8080/"
        },
        "id": "kJKkxL4lyMWe",
        "outputId": "c74d1803-4e79-4e6e-eab2-98db35cbddee"
      },
      "outputs": [
        {
          "data": {
            "text/plain": [
              "DecisionTreeRegressor(random_state=68)"
            ]
          },
          "execution_count": 31,
          "metadata": {},
          "output_type": "execute_result"
        }
      ],
      "source": [
        "dtree.fit(X_train,y_train)"
      ],
      "id": "kJKkxL4lyMWe"
    },
    {
      "cell_type": "code",
      "execution_count": null,
      "metadata": {
        "id": "rQxMtay_ySAY"
      },
      "outputs": [],
      "source": [
        "# predicting Y_train\n",
        "y_pred_train = dtree.predict(X_train)"
      ],
      "id": "rQxMtay_ySAY"
    },
    {
      "cell_type": "code",
      "execution_count": null,
      "metadata": {
        "id": "h9_ZOkZ5yuO_"
      },
      "outputs": [],
      "source": [
        "# predicting Y_train\n",
        "y_pred_test = dtree.predict(X_test)"
      ],
      "id": "h9_ZOkZ5yuO_"
    },
    {
      "cell_type": "code",
      "execution_count": null,
      "metadata": {
        "colab": {
          "base_uri": "https://localhost:8080/"
        },
        "id": "fY3Frb4oy8lV",
        "outputId": "d05a7886-673d-45d3-ea52-f7e9848c22a1"
      },
      "outputs": [
        {
          "output_type": "stream",
          "name": "stdout",
          "text": [
            "r2_score for training data is 0.9999987542867533\n",
            "r2_score for testing data is 0.9132782268502603\n",
            "Adjusted r2_score for training data is 0.999999\n",
            "Adjusted r2_score for testing data is 0.911298\n",
            "Mean Absolute Error for training data is 4.189885590080446e-06\n",
            "Mean Absolute Error for testing data is 0.20540436100243337\n",
            "Mean Squared Error for training data is 1.2457116948123794e-06\n",
            "Mean Squared Error for testing data is 0.08350558487359472\n",
            "Root Mean Squared Error for training data is 0.0011161145527285178\n",
            "Root Mean Squared Error for testing data is 0.2889733290004369\n"
          ]
        }
      ],
      "source": [
        "# printing evaluation matrices for our model\n",
        "print(f'r2_score for training data is {r2_score(y_pred_train,y_train)}')\n",
        "print(f'r2_score for testing data is {r2_score(y_pred_test,y_test)}')\n",
        "\n",
        "print(f'Adjusted r2_score for training data is {round(1 - (1-r2_score(y_train, y_pred_train)) * (len(y_train)-1)/(len(y_train)-X_train.shape[1]-1),6)}')\n",
        "print(f'Adjusted r2_score for testing data is {round(1 - (1-r2_score(y_test, y_pred_test)) * (len(y_test)-1)/(len(y_test)-X_test.shape[1]-1),6)}')\n",
        "\n",
        "print(f'Mean Absolute Error for training data is {mean_absolute_error(y_pred_train,y_train)}')\n",
        "print(f'Mean Absolute Error for testing data is {mean_absolute_error(y_pred_test,y_test)}')\n",
        "\n",
        "print(f'Mean Squared Error for training data is {mean_squared_error(y_pred_train,y_train)}')\n",
        "print(f'Mean Squared Error for testing data is {mean_squared_error(y_pred_test,y_test)}')\n",
        "\n",
        "print(f'Root Mean Squared Error for training data is {math.sqrt(mean_squared_error(y_pred_train,y_train))}')\n",
        "print(f'Root Mean Squared Error for testing data is {math.sqrt(mean_squared_error(y_pred_test,y_test))}')"
      ],
      "id": "fY3Frb4oy8lV"
    },
    {
      "cell_type": "code",
      "source": [],
      "metadata": {
        "id": "umWY0BldJwtt"
      },
      "id": "umWY0BldJwtt",
      "execution_count": null,
      "outputs": []
    },
    {
      "cell_type": "markdown",
      "metadata": {
        "id": "8bHce8VC1fqv"
      },
      "source": [
        "As it is famously assumed, Decision trees are indeed prone to overfitting, with r2_score of 1 on traing data, it has completely overfitted the data, while for test data, it's accuracy is around 93%.\n",
        "\n",
        "To ease this problem of overfitting we will use Random Forest to improve our model accuracy."
      ],
      "id": "8bHce8VC1fqv"
    },
    {
      "cell_type": "markdown",
      "metadata": {
        "id": "BImiIdfH1mn4"
      },
      "source": [
        "### **Model 2: Random Forest**"
      ],
      "id": "BImiIdfH1mn4"
    },
    {
      "cell_type": "markdown",
      "metadata": {
        "id": "pwkDkF-u19LE"
      },
      "source": [
        "A single tree was not able to lift much weight, so now we will use entire forest."
      ],
      "id": "pwkDkF-u19LE"
    },
    {
      "cell_type": "code",
      "execution_count": null,
      "metadata": {
        "id": "becuzNaM14oM"
      },
      "outputs": [],
      "source": [
        "# importing random forest from ScikitLearn\n",
        "from sklearn.ensemble import RandomForestRegressor"
      ],
      "id": "becuzNaM14oM"
    },
    {
      "cell_type": "code",
      "execution_count": null,
      "metadata": {
        "id": "fR_qVtj-2Yvl"
      },
      "outputs": [],
      "source": [
        "rf = RandomForestRegressor(n_estimators=100, random_state=68)"
      ],
      "id": "fR_qVtj-2Yvl"
    },
    {
      "cell_type": "code",
      "execution_count": null,
      "metadata": {
        "colab": {
          "background_save": true
        },
        "id": "JKWWgoOg2mVI",
        "outputId": "2def16f9-c8e3-457e-aaa0-a055860288d9"
      },
      "outputs": [
        {
          "data": {
            "text/plain": [
              "RandomForestRegressor(random_state=68)"
            ]
          },
          "execution_count": 37,
          "metadata": {},
          "output_type": "execute_result"
        }
      ],
      "source": [
        "rf.fit(X_train,y_train)"
      ],
      "id": "JKWWgoOg2mVI"
    },
    {
      "cell_type": "code",
      "execution_count": null,
      "metadata": {
        "colab": {
          "background_save": true
        },
        "id": "3K_E7jOS31Jj"
      },
      "outputs": [],
      "source": [
        "y_pred_train_rf = rf.predict(X_train)"
      ],
      "id": "3K_E7jOS31Jj"
    },
    {
      "cell_type": "code",
      "execution_count": null,
      "metadata": {
        "colab": {
          "background_save": true
        },
        "id": "Sda0tVgM_TPi"
      },
      "outputs": [],
      "source": [
        "y_pred_test_rf = rf.predict(X_test)"
      ],
      "id": "Sda0tVgM_TPi"
    },
    {
      "cell_type": "code",
      "execution_count": null,
      "metadata": {
        "colab": {
          "base_uri": "https://localhost:8080/"
        },
        "id": "44_-Hma3AEjQ",
        "outputId": "e87a10c3-a02c-4f15-82b2-b3015217519c"
      },
      "outputs": [
        {
          "output_type": "stream",
          "name": "stdout",
          "text": [
            "r2_score for training data is 0.9964356349429113\n",
            "r2_score for testing data is 0.9508591528079314\n",
            "Adjusted r2_score for training data is 0.9965\n",
            "Adjusted r2_score for testing data is 0.952252\n",
            "Mean Absolute Error for training data is 0.04334227746186602\n",
            "Mean Absolute Error for testing data is 0.1538746851395498\n",
            "Mean Squared Error for training data is 0.003500113007311803\n",
            "Mean Squared Error for testing data is 0.0449506975157633\n",
            "Root Mean Squared Error for training data is 0.059161752909390734\n",
            "Root Mean Squared Error for testing data is 0.2120157954393099\n"
          ]
        }
      ],
      "source": [
        "# printing evaluation matrices for our model\n",
        "print(f'r2_score for training data is {r2_score(y_pred_train_rf,y_train)}')\n",
        "print(f'r2_score for testing data is {r2_score(y_pred_test_rf,y_test)}')\n",
        "\n",
        "print(f'Adjusted r2_score for training data is {round(1 - (1-r2_score(y_train, y_pred_train_rf)) * (len(y_train)-1)/(len(y_train)-X_train.shape[1]-1),6)}')\n",
        "print(f'Adjusted r2_score for testing data is {round(1 - (1-r2_score(y_test, y_pred_test_rf)) * (len(y_test)-1)/(len(y_test)-X_test.shape[1]-1),6)}')\n",
        "\n",
        "print(f'Mean Absolute Error for training data is {mean_absolute_error(y_pred_train_rf,y_train)}')\n",
        "print(f'Mean Absolute Error for testing data is {mean_absolute_error(y_pred_test_rf,y_test)}')\n",
        "\n",
        "print(f'Mean Squared Error for training data is {mean_squared_error(y_pred_train_rf,y_train)}')\n",
        "print(f'Mean Squared Error for testing data is {mean_squared_error(y_pred_test_rf,y_test)}')\n",
        "\n",
        "\n",
        "print(f'Root Mean Squared Error for training data is {math.sqrt(mean_squared_error(y_pred_train_rf,y_train))}')\n",
        "print(f'Root Mean Squared Error for testing data is {math.sqrt(mean_squared_error(y_pred_test_rf,y_test))}')"
      ],
      "id": "44_-Hma3AEjQ"
    },
    {
      "cell_type": "markdown",
      "metadata": {
        "id": "SrJOofr7Bmap"
      },
      "source": [
        "Our r2_score for training data is almost 99% while for test data it is 95%. It seems all good, but let's try finding best parameters to see if we can further improve our score."
      ],
      "id": "SrJOofr7Bmap"
    },
    {
      "cell_type": "markdown",
      "metadata": {
        "id": "s7_K9j3zOhik"
      },
      "source": [
        "### **Model 3: LGBM**"
      ],
      "id": "s7_K9j3zOhik"
    },
    {
      "cell_type": "code",
      "execution_count": null,
      "metadata": {
        "colab": {
          "background_save": true
        },
        "id": "knMMQDvhOuEY"
      },
      "outputs": [],
      "source": [
        "# importing lgbm\n",
        "from lightgbm import LGBMRegressor"
      ],
      "id": "knMMQDvhOuEY"
    },
    {
      "cell_type": "code",
      "execution_count": null,
      "metadata": {
        "colab": {
          "background_save": true
        },
        "id": "ApEWKUjDO_AJ"
      },
      "outputs": [],
      "source": [
        "# assigning variable\n",
        "lgbm_reg = LGBMRegressor(random_state=68)"
      ],
      "id": "ApEWKUjDO_AJ"
    },
    {
      "cell_type": "code",
      "execution_count": null,
      "metadata": {
        "colab": {
          "background_save": true
        },
        "id": "FtPjQoBEPK1r",
        "outputId": "b66916e6-d0b6-45aa-be58-7637bbb6f3d5"
      },
      "outputs": [
        {
          "data": {
            "text/plain": [
              "LGBMRegressor(random_state=68)"
            ]
          },
          "execution_count": 43,
          "metadata": {},
          "output_type": "execute_result"
        }
      ],
      "source": [
        "# fitting on training data\n",
        "lgbm_reg.fit(X_train,y_train)"
      ],
      "id": "FtPjQoBEPK1r"
    },
    {
      "cell_type": "code",
      "execution_count": null,
      "metadata": {
        "colab": {
          "background_save": true
        },
        "id": "yiZJsuI9Pf3N"
      },
      "outputs": [],
      "source": [
        "# predicting on y_train\n",
        "y_train_pred_lgbm = lgbm_reg.predict(X_train)"
      ],
      "id": "yiZJsuI9Pf3N"
    },
    {
      "cell_type": "code",
      "execution_count": null,
      "metadata": {
        "colab": {
          "background_save": true
        },
        "id": "8aY1pKRSPuvg"
      },
      "outputs": [],
      "source": [
        "# predicting on y_test\n",
        "y_test_pred_lgbm = lgbm_reg.predict(X_test)"
      ],
      "id": "8aY1pKRSPuvg"
    },
    {
      "cell_type": "code",
      "execution_count": null,
      "metadata": {
        "colab": {
          "base_uri": "https://localhost:8080/"
        },
        "id": "gxJzZqlQP9Bw",
        "outputId": "6e3ddd35-61ae-4bf4-9895-f826536329fa"
      },
      "outputs": [
        {
          "output_type": "stream",
          "name": "stdout",
          "text": [
            "r2_score for training data is 0.9156963683049166\n",
            "r2_score for testing data is 0.8854440634180716\n",
            "Adjusted r2_score for training data is 0.925448\n",
            "Adjusted r2_score for testing data is 0.896417\n",
            "Mean Absolute Error for training data is 0.2148672858875459\n",
            "Mean Absolute Error for testing data is 0.24558678172808118\n",
            "Mean Squared Error for training data is 0.07454970345199258\n",
            "Mean Squared Error for testing data is 0.09751441413804593\n",
            "Root Mean Squared Error for training data is 0.2730379157772645\n",
            "Root Mean Squared Error for testing data is 0.3122729801600611\n"
          ]
        }
      ],
      "source": [
        "# printing accuracy\n",
        "# printing evaluation matrices for our model\n",
        "print(f'r2_score for training data is {r2_score(y_train_pred_lgbm,y_train)}')\n",
        "print(f'r2_score for testing data is {r2_score(y_test_pred_lgbm,y_test)}')\n",
        "\n",
        "print(f'Adjusted r2_score for training data is {round(1 - (1-r2_score(y_train, y_train_pred_lgbm)) * (len(y_train)-1)/(len(y_train)-X_train.shape[1]-1),6)}')\n",
        "print(f'Adjusted r2_score for testing data is {round(1 - (1-r2_score(y_test, y_test_pred_lgbm)) * (len(y_test)-1)/(len(y_test)-X_test.shape[1]-1),6)}')\n",
        "\n",
        "print(f'Mean Absolute Error for training data is {mean_absolute_error(y_train_pred_lgbm,y_train)}')\n",
        "print(f'Mean Absolute Error for testing data is {mean_absolute_error(y_test_pred_lgbm,y_test)}')\n",
        "\n",
        "print(f'Mean Squared Error for training data is {mean_squared_error(y_train_pred_lgbm,y_train)}')\n",
        "print(f'Mean Squared Error for testing data is {mean_squared_error(y_test_pred_lgbm,y_test)}')\n",
        "\n",
        "print(f'Root Mean Squared Error for training data is {math.sqrt(mean_squared_error(y_train_pred_lgbm,y_train))}')\n",
        "print(f'Root Mean Squared Error for testing data is {math.sqrt(mean_squared_error(y_test_pred_lgbm,y_test))}')\n"
      ],
      "id": "gxJzZqlQP9Bw"
    },
    {
      "cell_type": "markdown",
      "source": [
        "We have made predictions using default parameters of Light Gradient Boosting model, simply to get and idea of how it might perfrm on our training and test data."
      ],
      "metadata": {
        "id": "kYCdCWgoHqSa"
      },
      "id": "kYCdCWgoHqSa"
    },
    {
      "cell_type": "code",
      "source": [
        "# creating a comparison df\n",
        "{'Model_name':['Decision Tree', 'Random Forest Regressor', 'LightGradient Boost Regressor'], 'Variable':['dtree', 'rf', 'lgbm_reg'], 'Train_r2':[r2_score(y_pred_train,y_train), r2_score(y_pred_train_rf,y_train), r2_score(y_train_pred_lgbm,y_train)]}"
      ],
      "metadata": {
        "colab": {
          "base_uri": "https://localhost:8080/"
        },
        "id": "_MQ506ApHd95",
        "outputId": "6209d09d-6a13-4f65-cd27-e38f12c423b6"
      },
      "id": "_MQ506ApHd95",
      "execution_count": null,
      "outputs": [
        {
          "output_type": "execute_result",
          "data": {
            "text/plain": [
              "{'Model_name': ['Decision Tree',\n",
              "  'Random Forest Regressor',\n",
              "  'LightGradient Boost Regressor'],\n",
              " 'Variable': ['dtree', 'rf', 'lgbm_reg'],\n",
              " 'Train_r2': [0.9999987542867533, 0.9964356349429113, 0.9156963683049166]}"
            ]
          },
          "metadata": {},
          "execution_count": 63
        }
      ]
    },
    {
      "cell_type": "code",
      "source": [
        "comparison_df = pd.DataFrame({'Model_name':['Decision Tree', 'Random Forest Regressor', 'LightGradient Boost Regressor'], 'Variable':['dtree', 'rf', 'lgbm_reg'], 'Train_r2':[r2_score(y_pred_train,y_train), r2_score(y_pred_train_rf,y_train), r2_score(y_train_pred_lgbm,y_train)]})"
      ],
      "metadata": {
        "id": "WtI149mxHg1y"
      },
      "id": "WtI149mxHg1y",
      "execution_count": null,
      "outputs": []
    },
    {
      "cell_type": "code",
      "source": [
        "comparison_df = [r2_score(y_pred_test,y_test), r2_score(y_pred_test_rf,y_test), r2_score(y_test_pred_lgbm,y_test)]\n",
        "comparison_df"
      ],
      "metadata": {
        "colab": {
          "base_uri": "https://localhost:8080/",
          "height": 143
        },
        "id": "uJyfIUugJbBY",
        "outputId": "81293e52-5407-4bc9-f326-aec3a7b895df"
      },
      "id": "uJyfIUugJbBY",
      "execution_count": null,
      "outputs": [
        {
          "output_type": "execute_result",
          "data": {
            "text/plain": [
              "                      Model_name  Variable  Train_r2   Test_r2\n",
              "0                  Decision Tree     dtree  0.999999  0.913278\n",
              "1        Random Forest Regressor        rf  0.996436  0.950859\n",
              "2  LightGradient Boost Regressor  lgbm_reg  0.915696  0.885444"
            ],
            "text/html": [
              "\n",
              "  <div id=\"df-0e9ab61d-6be1-4944-aa7a-0f4e86a1fe69\">\n",
              "    <div class=\"colab-df-container\">\n",
              "      <div>\n",
              "<style scoped>\n",
              "    .dataframe tbody tr th:only-of-type {\n",
              "        vertical-align: middle;\n",
              "    }\n",
              "\n",
              "    .dataframe tbody tr th {\n",
              "        vertical-align: top;\n",
              "    }\n",
              "\n",
              "    .dataframe thead th {\n",
              "        text-align: right;\n",
              "    }\n",
              "</style>\n",
              "<table border=\"1\" class=\"dataframe\">\n",
              "  <thead>\n",
              "    <tr style=\"text-align: right;\">\n",
              "      <th></th>\n",
              "      <th>Model_name</th>\n",
              "      <th>Variable</th>\n",
              "      <th>Train_r2</th>\n",
              "      <th>Test_r2</th>\n",
              "    </tr>\n",
              "  </thead>\n",
              "  <tbody>\n",
              "    <tr>\n",
              "      <th>0</th>\n",
              "      <td>Decision Tree</td>\n",
              "      <td>dtree</td>\n",
              "      <td>0.999999</td>\n",
              "      <td>0.913278</td>\n",
              "    </tr>\n",
              "    <tr>\n",
              "      <th>1</th>\n",
              "      <td>Random Forest Regressor</td>\n",
              "      <td>rf</td>\n",
              "      <td>0.996436</td>\n",
              "      <td>0.950859</td>\n",
              "    </tr>\n",
              "    <tr>\n",
              "      <th>2</th>\n",
              "      <td>LightGradient Boost Regressor</td>\n",
              "      <td>lgbm_reg</td>\n",
              "      <td>0.915696</td>\n",
              "      <td>0.885444</td>\n",
              "    </tr>\n",
              "  </tbody>\n",
              "</table>\n",
              "</div>\n",
              "      <button class=\"colab-df-convert\" onclick=\"convertToInteractive('df-0e9ab61d-6be1-4944-aa7a-0f4e86a1fe69')\"\n",
              "              title=\"Convert this dataframe to an interactive table.\"\n",
              "              style=\"display:none;\">\n",
              "        \n",
              "  <svg xmlns=\"http://www.w3.org/2000/svg\" height=\"24px\"viewBox=\"0 0 24 24\"\n",
              "       width=\"24px\">\n",
              "    <path d=\"M0 0h24v24H0V0z\" fill=\"none\"/>\n",
              "    <path d=\"M18.56 5.44l.94 2.06.94-2.06 2.06-.94-2.06-.94-.94-2.06-.94 2.06-2.06.94zm-11 1L8.5 8.5l.94-2.06 2.06-.94-2.06-.94L8.5 2.5l-.94 2.06-2.06.94zm10 10l.94 2.06.94-2.06 2.06-.94-2.06-.94-.94-2.06-.94 2.06-2.06.94z\"/><path d=\"M17.41 7.96l-1.37-1.37c-.4-.4-.92-.59-1.43-.59-.52 0-1.04.2-1.43.59L10.3 9.45l-7.72 7.72c-.78.78-.78 2.05 0 2.83L4 21.41c.39.39.9.59 1.41.59.51 0 1.02-.2 1.41-.59l7.78-7.78 2.81-2.81c.8-.78.8-2.07 0-2.86zM5.41 20L4 18.59l7.72-7.72 1.47 1.35L5.41 20z\"/>\n",
              "  </svg>\n",
              "      </button>\n",
              "      \n",
              "  <style>\n",
              "    .colab-df-container {\n",
              "      display:flex;\n",
              "      flex-wrap:wrap;\n",
              "      gap: 12px;\n",
              "    }\n",
              "\n",
              "    .colab-df-convert {\n",
              "      background-color: #E8F0FE;\n",
              "      border: none;\n",
              "      border-radius: 50%;\n",
              "      cursor: pointer;\n",
              "      display: none;\n",
              "      fill: #1967D2;\n",
              "      height: 32px;\n",
              "      padding: 0 0 0 0;\n",
              "      width: 32px;\n",
              "    }\n",
              "\n",
              "    .colab-df-convert:hover {\n",
              "      background-color: #E2EBFA;\n",
              "      box-shadow: 0px 1px 2px rgba(60, 64, 67, 0.3), 0px 1px 3px 1px rgba(60, 64, 67, 0.15);\n",
              "      fill: #174EA6;\n",
              "    }\n",
              "\n",
              "    [theme=dark] .colab-df-convert {\n",
              "      background-color: #3B4455;\n",
              "      fill: #D2E3FC;\n",
              "    }\n",
              "\n",
              "    [theme=dark] .colab-df-convert:hover {\n",
              "      background-color: #434B5C;\n",
              "      box-shadow: 0px 1px 3px 1px rgba(0, 0, 0, 0.15);\n",
              "      filter: drop-shadow(0px 1px 2px rgba(0, 0, 0, 0.3));\n",
              "      fill: #FFFFFF;\n",
              "    }\n",
              "  </style>\n",
              "\n",
              "      <script>\n",
              "        const buttonEl =\n",
              "          document.querySelector('#df-0e9ab61d-6be1-4944-aa7a-0f4e86a1fe69 button.colab-df-convert');\n",
              "        buttonEl.style.display =\n",
              "          google.colab.kernel.accessAllowed ? 'block' : 'none';\n",
              "\n",
              "        async function convertToInteractive(key) {\n",
              "          const element = document.querySelector('#df-0e9ab61d-6be1-4944-aa7a-0f4e86a1fe69');\n",
              "          const dataTable =\n",
              "            await google.colab.kernel.invokeFunction('convertToInteractive',\n",
              "                                                     [key], {});\n",
              "          if (!dataTable) return;\n",
              "\n",
              "          const docLinkHtml = 'Like what you see? Visit the ' +\n",
              "            '<a target=\"_blank\" href=https://colab.research.google.com/notebooks/data_table.ipynb>data table notebook</a>'\n",
              "            + ' to learn more about interactive tables.';\n",
              "          element.innerHTML = '';\n",
              "          dataTable['output_type'] = 'display_data';\n",
              "          await google.colab.output.renderOutput(dataTable, element);\n",
              "          const docLink = document.createElement('div');\n",
              "          docLink.innerHTML = docLinkHtml;\n",
              "          element.appendChild(docLink);\n",
              "        }\n",
              "      </script>\n",
              "    </div>\n",
              "  </div>\n",
              "  "
            ]
          },
          "metadata": {},
          "execution_count": 71
        }
      ]
    },
    {
      "cell_type": "code",
      "source": [
        "comparison_df['Train_adjusted_r2'] = [round(1 - (1-r2_score(y_train, y_pred_train)) * (len(y_train)-1)/(len(y_train)-X_train.shape[1]-1),6),\n",
        "                                      round(1 - (1-r2_score(y_train, y_pred_train_rf)) * (len(y_train)-1)/(len(y_train)-X_train.shape[1]-1),6),\n",
        "                                      round(1 - (1-r2_score(y_train, y_train_pred_lgbm)) * (len(y_train)-1)/(len(y_train)-X_train.shape[1]-1),6)]"
      ],
      "metadata": {
        "id": "fsjgbsBaLTgi"
      },
      "id": "fsjgbsBaLTgi",
      "execution_count": null,
      "outputs": []
    },
    {
      "cell_type": "code",
      "source": [
        "comparison_df['Test_adjusted_r2'] = [round(1 - (1-r2_score(y_test, y_pred_test)) * (len(y_test)-1)/(len(y_test)-X_test.shape[1]-1),6),\n",
        "                                      round(1 - (1-r2_score(y_test, y_pred_test_rf)) * (len(y_test)-1)/(len(y_test)-X_test.shape[1]-1),6),\n",
        "                                      round(1 - (1-r2_score(y_test, y_test_pred_lgbm)) * (len(y_test)-1)/(len(y_test)-X_test.shape[1]-1),6)]"
      ],
      "metadata": {
        "id": "HncqS_RkM49I"
      },
      "id": "HncqS_RkM49I",
      "execution_count": null,
      "outputs": []
    },
    {
      "cell_type": "code",
      "source": [
        "comparison_df['Train_MAE'] = [mean_absolute_error(y_pred_train,y_train),\n",
        "                              mean_absolute_error(y_pred_train_rf,y_train),\n",
        "                              mean_absolute_error(y_train_pred_lgbm,y_train)]"
      ],
      "metadata": {
        "id": "KsrnUokvNV68"
      },
      "id": "KsrnUokvNV68",
      "execution_count": null,
      "outputs": []
    },
    {
      "cell_type": "code",
      "source": [
        "comparison_df['Test_MAE'] = [mean_absolute_error(y_pred_test,y_test),\n",
        "                             mean_absolute_error(y_pred_test_rf,y_test),\n",
        "                             mean_absolute_error(y_test_pred_lgbm,y_test)]"
      ],
      "metadata": {
        "id": "t9v7EzBWNp7F"
      },
      "id": "t9v7EzBWNp7F",
      "execution_count": null,
      "outputs": []
    },
    {
      "cell_type": "code",
      "source": [
        "comparison_df['Train_MSE'] = [mean_squared_error(y_pred_train,y_train),\n",
        "                              mean_squared_error(y_pred_train_rf,y_train),\n",
        "                              mean_squared_error(y_train_pred_lgbm,y_train)]"
      ],
      "metadata": {
        "id": "W-dh1pvsN7ff"
      },
      "id": "W-dh1pvsN7ff",
      "execution_count": null,
      "outputs": []
    },
    {
      "cell_type": "code",
      "source": [
        "comparison_df['Test_MSE'] = [mean_squared_error(y_pred_test,y_test),\n",
        "                             mean_squared_error(y_pred_test_rf,y_test),\n",
        "                             mean_squared_error(y_test_pred_lgbm,y_test)]"
      ],
      "metadata": {
        "id": "Hvo_DHNpOV88"
      },
      "id": "Hvo_DHNpOV88",
      "execution_count": null,
      "outputs": []
    },
    {
      "cell_type": "code",
      "source": [
        "comparison_df['Train_RMSE'] = [math.sqrt(mean_squared_error(y_pred_train,y_train)),\n",
        "                               math.sqrt(mean_squared_error(y_pred_train_rf,y_train)),\n",
        "                               math.sqrt(mean_squared_error(y_train_pred_lgbm,y_train))]"
      ],
      "metadata": {
        "id": "x6axpc55OspM"
      },
      "id": "x6axpc55OspM",
      "execution_count": null,
      "outputs": []
    },
    {
      "cell_type": "code",
      "source": [
        "comparison_df['Test_RMSE'] = [math.sqrt(mean_squared_error(y_pred_test,y_test)),\n",
        "                              math.sqrt(mean_squared_error(y_pred_test_rf,y_test)),\n",
        "                              math.sqrt(mean_squared_error(y_test_pred_lgbm,y_test))]"
      ],
      "metadata": {
        "id": "gBGRT9d2PHMr"
      },
      "id": "gBGRT9d2PHMr",
      "execution_count": null,
      "outputs": []
    },
    {
      "cell_type": "code",
      "source": [
        "comparison_df"
      ],
      "metadata": {
        "colab": {
          "base_uri": "https://localhost:8080/",
          "height": 187
        },
        "id": "r4JBephuPd7y",
        "outputId": "dc67e54f-f693-4aee-de74-6bb895eab068"
      },
      "id": "r4JBephuPd7y",
      "execution_count": null,
      "outputs": [
        {
          "output_type": "execute_result",
          "data": {
            "text/plain": [
              "                      Model_name  Variable  Train_r2   Test_r2  \\\n",
              "0                  Decision Tree     dtree  0.999999  0.913278   \n",
              "1        Random Forest Regressor        rf  0.996436  0.950859   \n",
              "2  LightGradient Boost Regressor  lgbm_reg  0.915696  0.885444   \n",
              "\n",
              "   Train_adjusted_r2  Test_adjusted_r2  Train_MAE  Test_MAE  Train_MSE  \\\n",
              "0           0.999999          0.911298   0.000004  0.205404   0.000001   \n",
              "1           0.996500          0.952252   0.043342  0.153875   0.003500   \n",
              "2           0.925448          0.896417   0.214867  0.245587   0.074550   \n",
              "\n",
              "   Test_MSE  Train_RMSE  Test_RMSE  \n",
              "0  0.083506    0.001116   0.288973  \n",
              "1  0.044951    0.059162   0.212016  \n",
              "2  0.097514    0.273038   0.312273  "
            ],
            "text/html": [
              "\n",
              "  <div id=\"df-1fb2eba8-8d0e-4f19-97a3-b19be4711fbd\">\n",
              "    <div class=\"colab-df-container\">\n",
              "      <div>\n",
              "<style scoped>\n",
              "    .dataframe tbody tr th:only-of-type {\n",
              "        vertical-align: middle;\n",
              "    }\n",
              "\n",
              "    .dataframe tbody tr th {\n",
              "        vertical-align: top;\n",
              "    }\n",
              "\n",
              "    .dataframe thead th {\n",
              "        text-align: right;\n",
              "    }\n",
              "</style>\n",
              "<table border=\"1\" class=\"dataframe\">\n",
              "  <thead>\n",
              "    <tr style=\"text-align: right;\">\n",
              "      <th></th>\n",
              "      <th>Model_name</th>\n",
              "      <th>Variable</th>\n",
              "      <th>Train_r2</th>\n",
              "      <th>Test_r2</th>\n",
              "      <th>Train_adjusted_r2</th>\n",
              "      <th>Test_adjusted_r2</th>\n",
              "      <th>Train_MAE</th>\n",
              "      <th>Test_MAE</th>\n",
              "      <th>Train_MSE</th>\n",
              "      <th>Test_MSE</th>\n",
              "      <th>Train_RMSE</th>\n",
              "      <th>Test_RMSE</th>\n",
              "    </tr>\n",
              "  </thead>\n",
              "  <tbody>\n",
              "    <tr>\n",
              "      <th>0</th>\n",
              "      <td>Decision Tree</td>\n",
              "      <td>dtree</td>\n",
              "      <td>0.999999</td>\n",
              "      <td>0.913278</td>\n",
              "      <td>0.999999</td>\n",
              "      <td>0.911298</td>\n",
              "      <td>0.000004</td>\n",
              "      <td>0.205404</td>\n",
              "      <td>0.000001</td>\n",
              "      <td>0.083506</td>\n",
              "      <td>0.001116</td>\n",
              "      <td>0.288973</td>\n",
              "    </tr>\n",
              "    <tr>\n",
              "      <th>1</th>\n",
              "      <td>Random Forest Regressor</td>\n",
              "      <td>rf</td>\n",
              "      <td>0.996436</td>\n",
              "      <td>0.950859</td>\n",
              "      <td>0.996500</td>\n",
              "      <td>0.952252</td>\n",
              "      <td>0.043342</td>\n",
              "      <td>0.153875</td>\n",
              "      <td>0.003500</td>\n",
              "      <td>0.044951</td>\n",
              "      <td>0.059162</td>\n",
              "      <td>0.212016</td>\n",
              "    </tr>\n",
              "    <tr>\n",
              "      <th>2</th>\n",
              "      <td>LightGradient Boost Regressor</td>\n",
              "      <td>lgbm_reg</td>\n",
              "      <td>0.915696</td>\n",
              "      <td>0.885444</td>\n",
              "      <td>0.925448</td>\n",
              "      <td>0.896417</td>\n",
              "      <td>0.214867</td>\n",
              "      <td>0.245587</td>\n",
              "      <td>0.074550</td>\n",
              "      <td>0.097514</td>\n",
              "      <td>0.273038</td>\n",
              "      <td>0.312273</td>\n",
              "    </tr>\n",
              "  </tbody>\n",
              "</table>\n",
              "</div>\n",
              "      <button class=\"colab-df-convert\" onclick=\"convertToInteractive('df-1fb2eba8-8d0e-4f19-97a3-b19be4711fbd')\"\n",
              "              title=\"Convert this dataframe to an interactive table.\"\n",
              "              style=\"display:none;\">\n",
              "        \n",
              "  <svg xmlns=\"http://www.w3.org/2000/svg\" height=\"24px\"viewBox=\"0 0 24 24\"\n",
              "       width=\"24px\">\n",
              "    <path d=\"M0 0h24v24H0V0z\" fill=\"none\"/>\n",
              "    <path d=\"M18.56 5.44l.94 2.06.94-2.06 2.06-.94-2.06-.94-.94-2.06-.94 2.06-2.06.94zm-11 1L8.5 8.5l.94-2.06 2.06-.94-2.06-.94L8.5 2.5l-.94 2.06-2.06.94zm10 10l.94 2.06.94-2.06 2.06-.94-2.06-.94-.94-2.06-.94 2.06-2.06.94z\"/><path d=\"M17.41 7.96l-1.37-1.37c-.4-.4-.92-.59-1.43-.59-.52 0-1.04.2-1.43.59L10.3 9.45l-7.72 7.72c-.78.78-.78 2.05 0 2.83L4 21.41c.39.39.9.59 1.41.59.51 0 1.02-.2 1.41-.59l7.78-7.78 2.81-2.81c.8-.78.8-2.07 0-2.86zM5.41 20L4 18.59l7.72-7.72 1.47 1.35L5.41 20z\"/>\n",
              "  </svg>\n",
              "      </button>\n",
              "      \n",
              "  <style>\n",
              "    .colab-df-container {\n",
              "      display:flex;\n",
              "      flex-wrap:wrap;\n",
              "      gap: 12px;\n",
              "    }\n",
              "\n",
              "    .colab-df-convert {\n",
              "      background-color: #E8F0FE;\n",
              "      border: none;\n",
              "      border-radius: 50%;\n",
              "      cursor: pointer;\n",
              "      display: none;\n",
              "      fill: #1967D2;\n",
              "      height: 32px;\n",
              "      padding: 0 0 0 0;\n",
              "      width: 32px;\n",
              "    }\n",
              "\n",
              "    .colab-df-convert:hover {\n",
              "      background-color: #E2EBFA;\n",
              "      box-shadow: 0px 1px 2px rgba(60, 64, 67, 0.3), 0px 1px 3px 1px rgba(60, 64, 67, 0.15);\n",
              "      fill: #174EA6;\n",
              "    }\n",
              "\n",
              "    [theme=dark] .colab-df-convert {\n",
              "      background-color: #3B4455;\n",
              "      fill: #D2E3FC;\n",
              "    }\n",
              "\n",
              "    [theme=dark] .colab-df-convert:hover {\n",
              "      background-color: #434B5C;\n",
              "      box-shadow: 0px 1px 3px 1px rgba(0, 0, 0, 0.15);\n",
              "      filter: drop-shadow(0px 1px 2px rgba(0, 0, 0, 0.3));\n",
              "      fill: #FFFFFF;\n",
              "    }\n",
              "  </style>\n",
              "\n",
              "      <script>\n",
              "        const buttonEl =\n",
              "          document.querySelector('#df-1fb2eba8-8d0e-4f19-97a3-b19be4711fbd button.colab-df-convert');\n",
              "        buttonEl.style.display =\n",
              "          google.colab.kernel.accessAllowed ? 'block' : 'none';\n",
              "\n",
              "        async function convertToInteractive(key) {\n",
              "          const element = document.querySelector('#df-1fb2eba8-8d0e-4f19-97a3-b19be4711fbd');\n",
              "          const dataTable =\n",
              "            await google.colab.kernel.invokeFunction('convertToInteractive',\n",
              "                                                     [key], {});\n",
              "          if (!dataTable) return;\n",
              "\n",
              "          const docLinkHtml = 'Like what you see? Visit the ' +\n",
              "            '<a target=\"_blank\" href=https://colab.research.google.com/notebooks/data_table.ipynb>data table notebook</a>'\n",
              "            + ' to learn more about interactive tables.';\n",
              "          element.innerHTML = '';\n",
              "          dataTable['output_type'] = 'display_data';\n",
              "          await google.colab.output.renderOutput(dataTable, element);\n",
              "          const docLink = document.createElement('div');\n",
              "          docLink.innerHTML = docLinkHtml;\n",
              "          element.appendChild(docLink);\n",
              "        }\n",
              "      </script>\n",
              "    </div>\n",
              "  </div>\n",
              "  "
            ]
          },
          "metadata": {},
          "execution_count": 80
        }
      ]
    },
    {
      "cell_type": "code",
      "source": [
        "c_df = comparison_df.to_csv(file_path+'comparison_df.csv')"
      ],
      "metadata": {
        "id": "tluk16BePrqM"
      },
      "id": "tluk16BePrqM",
      "execution_count": null,
      "outputs": []
    }
  ],
  "metadata": {
    "colab": {
      "provenance": [],
      "include_colab_link": true
    },
    "kernelspec": {
      "display_name": "Python 3 (ipykernel)",
      "language": "python",
      "name": "python3"
    },
    "language_info": {
      "codemirror_mode": {
        "name": "ipython",
        "version": 3
      },
      "file_extension": ".py",
      "mimetype": "text/x-python",
      "name": "python",
      "nbconvert_exporter": "python",
      "pygments_lexer": "ipython3",
      "version": "3.9.12"
    }
  },
  "nbformat": 4,
  "nbformat_minor": 5
}